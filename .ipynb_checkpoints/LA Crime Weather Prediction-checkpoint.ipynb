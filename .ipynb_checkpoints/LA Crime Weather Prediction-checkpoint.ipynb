{
 "cells": [
  {
   "cell_type": "markdown",
   "id": "e9587104",
   "metadata": {},
   "source": [
    "## LA Crime/Weather Data Model"
   ]
  },
  {
   "cell_type": "markdown",
   "id": "034fcad1",
   "metadata": {},
   "source": [
    "Dataset to use: https://data.lacity.org/Public-Safety/Crime-Data-from-2020-to-Present/2nrs-mtv8\n",
    "\n",
    "Overall goal: Given a date and weather datapoint predict the type of crime that will most likely to be committed in LA, if at all.\n",
    "\n",
    "Feautres we're interested in: DATE_OCC, TIME_OCC, LAT, LON (date, time, latitude/long will be used to determine weather)\n",
    "\n",
    "Labels: CRM_CD_DESC (the type of crime, we are trying to predict this using features above)"
   ]
  },
  {
   "cell_type": "markdown",
   "id": "2e64df31",
   "metadata": {},
   "source": [
    "#### Data preparation challenges"
   ]
  },
  {
   "cell_type": "markdown",
   "id": "be070044",
   "metadata": {},
   "source": [
    "We want to split the 2020-2023 data into a size that we can use to build our model. Here are a challenges we need to address.\n",
    "1. The data might not be normally distributed; meaining there might inherently be more data during summer months than fall months for example, and  this should not affect the predictions. Frequency of crime across all months should be considered in our model.\n",
    "2. Weather information; we have datetime and location of crimes reported. We can either simply infer seasons based on this, or we can make it more complex by querying weather data for datetime and location. This is a simple operation that queries national weather data for a zipcode and date using the API like https://www.ncei.noaa.gov/cdo-web/api/v2/data?datasetid=GHCND&locationid=ZIP:28801&startdate=2010-05-01&enddate=2010-05-01"
   ]
  },
  {
   "cell_type": "markdown",
   "id": "d1b11cd9",
   "metadata": {},
   "source": [
    "#### Possible Solutions"
   ]
  },
  {
   "cell_type": "markdown",
   "id": "633b1893",
   "metadata": {},
   "source": [
    "1. Introduce NO_CRIME as a crime description to denote days that crime didn't take place. The method of sampling data would be modified so that if we sample 20 random dates from each month from 2020-2023 all the dates that don't have a crime report will have NO_CRIME as label. This will ensure that we account for crime frequency in certain months over others.\n",
    "2. When building the training and testing dataset, query the NOAA api listed above to get avg temperature data for that day of the sample. This temp would then be a feature of the data sample TEMP."
   ]
  },
  {
   "cell_type": "markdown",
   "id": "23f34df2",
   "metadata": {},
   "source": [
    "#### Dataset Info"
   ]
  },
  {
   "cell_type": "markdown",
   "id": "4210368b",
   "metadata": {},
   "source": [
    "Access and sample data using the API endpoint https://data.lacity.org/resource/2nrs-mtv8.json\n",
    "\n",
    "Details on the API including filters for querying necessary data is listed here \n",
    "https://dev.socrata.com/foundry/data.lacity.org/2nrs-mtv8"
   ]
  },
  {
   "cell_type": "markdown",
   "id": "4a0151ed",
   "metadata": {},
   "source": [
    "#### TODO"
   ]
  },
  {
   "cell_type": "markdown",
   "id": "80cf5e85",
   "metadata": {},
   "source": [
    " 1. Finalize trategies for splitting 2020-2023 data. Do we want to randomly sample n days from each month of 2020-2023; do we want to sample only n reported crime datapoints from the dataset?\n",
    " 2. Prepare randomly sampled dataset with only necessary features and labels (possibly including accurate weather data for that day)\n",
    " 3. Parallel training/testing using various ML classification algorithms\n",
    " 4. Report and analysis of ML models and a final ensemble algorithm that will be used for prediction."
   ]
  }
 ],
 "metadata": {
  "kernelspec": {
   "display_name": "Python 3 (ipykernel)",
   "language": "python",
   "name": "python3"
  },
  "language_info": {
   "codemirror_mode": {
    "name": "ipython",
    "version": 3
   },
   "file_extension": ".py",
   "mimetype": "text/x-python",
   "name": "python",
   "nbconvert_exporter": "python",
   "pygments_lexer": "ipython3",
   "version": "3.11.4"
  }
 },
 "nbformat": 4,
 "nbformat_minor": 5
}
