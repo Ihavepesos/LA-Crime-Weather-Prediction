{
 "cells": [
  {
   "cell_type": "code",
   "execution_count": null,
   "id": "7c2b8c85",
   "metadata": {},
   "outputs": [
    {
     "name": "stdout",
     "output_type": "stream",
     "text": [
      "(600360, 29)\n",
      "(600360,)\n",
      "        DATE OCC  TIME OCC  Vict Age  77th Street  Central  Devonshire  \\\n",
      "395393   21.0727      2015        22            0        0           0   \n",
      "699720   23.1122      1928         4            0        0           0   \n",
      "435231   22.0702       215        32            0        0           0   \n",
      "635755   22.0714       900         0            0        0           0   \n",
      "820961   23.1031       400        31            0        0           0   \n",
      "\n",
      "        Foothill  Harbor  Hollenbeck  Hollywood  ...  Topanga  Van Nuys  \\\n",
      "395393         0       0           0          0  ...        0         0   \n",
      "699720         1       0           0          0  ...        0         0   \n",
      "435231         0       0           0          0  ...        0         0   \n",
      "635755         0       0           0          0  ...        0         0   \n",
      "820961         0       0           0          1  ...        0         0   \n",
      "\n",
      "        West LA  West Valley  Wilshire  -  F  H  M  X  \n",
      "395393        0            0         0  0  1  0  0  0  \n",
      "699720        0            0         0  0  0  0  1  0  \n",
      "435231        0            0         0  0  0  0  1  0  \n",
      "635755        0            0         0  0  0  0  0  0  \n",
      "820961        0            0         0  0  1  0  0  0  \n",
      "\n",
      "[5 rows x 29 columns]\n",
      "395393    624\n",
      "699720    812\n",
      "435231    230\n",
      "635755    510\n",
      "820961    624\n",
      "Name: Crm Cd, dtype: int64\n"
     ]
    }
   ],
   "source": [
    "import numpy as np \n",
    "import pandas as pd \n",
    "from sklearn.tree import DecisionTreeClassifier\n",
    "from sklearn.model_selection import train_test_split\n",
    "\n",
    "def date_to_float(x):\n",
    "    d = x.split('/')\n",
    "    d[2] = d[2].split(' ')[0]\n",
    "    return float(d[2][2:]+'.'+d[0]+d[1])\n",
    "  \n",
    "# import the data required \n",
    "data = pd.read_csv('crime.csv')\n",
    "data.drop('Vict Descent', axis=1, inplace=True)\n",
    "data['DATE OCC'] = data['DATE OCC'].apply(date_to_float)\n",
    "df1 = pd.get_dummies(data['AREA NAME'])\n",
    "data = pd.concat([data, df1], axis=1).reindex(data.index)\n",
    "data.drop('AREA NAME', axis=1, inplace=True)\n",
    "df2 = pd.get_dummies(data['Vict Sex'])\n",
    "data = pd.concat([data, df2], axis=1).reindex(data.index)\n",
    "data.drop('Vict Sex', axis=1, inplace=True)\n",
    "features = data.columns.tolist()\n",
    "features.remove('Crm Cd')\n",
    "features.remove('Crm Cd Desc')\n",
    "X = data[features]\n",
    "y = data['Crm Cd']\n",
    "\n",
    "X_train, X_test, y_train, y_test = train_test_split(X, y, test_size=0.3, random_state=2)\n",
    "print(X_train.shape)\n",
    "print(y_train.shape)\n",
    "print(X_train.head())\n",
    "print(y_train.head())\n",
    "my_decisiontree = DecisionTreeClassifier()\n",
    "my_decisiontree.fit(X, y)"
   ]
  },
  {
   "cell_type": "code",
   "execution_count": 48,
   "id": "d622c4a8",
   "metadata": {},
   "outputs": [
    {
     "name": "stdout",
     "output_type": "stream",
     "text": [
      "0.9936843659880761\n"
     ]
    }
   ],
   "source": [
    "from sklearn.metrics import accuracy_score\n",
    "y_predict_dt = my_decisiontree.predict(X_test)\n",
    "score_dt = accuracy_score(y_test, y_predict_dt)\n",
    "\n",
    "print(score_dt)"
   ]
  },
  {
   "cell_type": "code",
   "execution_count": null,
   "id": "f5c56939",
   "metadata": {},
   "outputs": [],
   "source": []
  }
 ],
 "metadata": {
  "kernelspec": {
   "display_name": "Python 3 (ipykernel)",
   "language": "python",
   "name": "python3"
  },
  "language_info": {
   "codemirror_mode": {
    "name": "ipython",
    "version": 3
   },
   "file_extension": ".py",
   "mimetype": "text/x-python",
   "name": "python",
   "nbconvert_exporter": "python",
   "pygments_lexer": "ipython3",
   "version": "3.11.4"
  }
 },
 "nbformat": 4,
 "nbformat_minor": 5
}
